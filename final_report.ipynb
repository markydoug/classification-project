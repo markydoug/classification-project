{
 "cells": [
  {
   "cell_type": "markdown",
   "id": "premier-milan",
   "metadata": {},
   "source": [
    "# Telco Churn\n",
    "\n",
    "## Project Goals\n",
    "* Identify drivers of churn for Telco customers\n",
    "* Use the identified drivers to develop a model to determine if a customer is likely to churn\n",
    "* Churn is defined as a customer who has left Telco\n",
    "* This information can be useful to help Telco find ways to retain customers who are likely to churn."
   ]
  },
  {
   "cell_type": "markdown",
   "id": "going-assembly",
   "metadata": {},
   "source": [
    "## Imports"
   ]
  },
  {
   "cell_type": "code",
   "execution_count": 1,
   "id": "divided-poster",
   "metadata": {},
   "outputs": [],
   "source": [
    "import pandas as pd\n",
    "import numpy as np\n",
    "\n",
    "import matplotlib.pyplot as plt\n",
    "import seaborn as sns\n",
    "import os\n",
    "\n",
    "from sklearn.model_selection import train_test_split\n",
    "import sklearn.preprocessing\n",
    "from sklearn.tree import DecisionTreeClassifier\n",
    "from sklearn.ensemble import RandomForestClassifier\n",
    "from sklearn.neighbors import KNeighborsClassifier\n",
    "from sklearn.linear_model import LogisticRegression\n",
    "\n",
    "import warnings\n",
    "warnings.filterwarnings(\"ignore\")\n",
    "\n",
    "from scipy import stats\n",
    "\n",
    "\n",
    "import wrangle as w\n",
    "import explore as e\n",
    "#import modeling as m"
   ]
  },
  {
   "cell_type": "markdown",
   "id": "criminal-glory",
   "metadata": {},
   "source": [
    "## Acquire\n",
    "\n",
    "* Data acquired from the Codeup mySQL server on October 26, 2022\n",
    "* It contained 7043 rows and 24 columns\n",
    "* Each observation represents a Telco customer\n",
    "* Each column represents a feature of those customers"
   ]
  },
  {
   "cell_type": "code",
   "execution_count": 2,
   "id": "8e7703ef",
   "metadata": {},
   "outputs": [],
   "source": [
    "#import unclean data from Codeup mySQL server\n",
    "telco_unclean = w.get_telco_data()"
   ]
  },
  {
   "cell_type": "markdown",
   "id": "impossible-bible",
   "metadata": {},
   "source": [
    "## Prepare\n",
    "\n",
    "* Checked for duplicate rows (there were none)\n",
    "* Removed duplicate columns (payment_type_id', 'internet_service_type_id', 'contract_type_id', 'customer_id')\n",
    "* Checked for nulls in the data (there were none)\n",
    "* Checked that column data types were appropriate\n",
    "* Noticed \"total_charges\" was listed as an object so researched why and found some customers have spaces (\" \")\n",
    "* Dropped those customers whose total_charges are spaces (these customers are new customers (tenure=0 and churn=No)), then converted to a float\n",
    "* Encoded target variable, churn, as 'churn_encoded' {'Yes': 1, 'No': 0}, then dropped 'churn' column\n",
    "* Split data into train, variable, and test (65/20/15)\n",
    "* Outliers have not been removed for this iteration of the project"
   ]
  },
  {
   "cell_type": "markdown",
   "id": "cf54e5e1",
   "metadata": {},
   "source": [
    "### Data dictionary\n",
    "| Feature | Definition | Values |\n",
    "|:--------|:-----------|:-------\n",
    "|gender| The customer's gender| Male or Female|\n",
    "|senior_citizen| Is this customer a senior citizen?| {'Yes': 1, 'No': 0} |\n",
    "|partner| Does this person live with a partner?|'Yes' or 'No'|\n",
    "|dependents| Does this person live with dependents?| 'Yes' or 'No'|\n",
    "|tenure| The number of **months** a customer has been with the company| *int* |\n",
    "|phone_service| Does this person subscribe to phone service?| 'Yes', 'No'|\n",
    "|multiple_lines| Does this person have multiple phone lines?| 'Yes', 'No', 'No phone service'|\n",
    "|online_security| Does this person subscribe to online security?| 'Yes', 'No', 'No internet service'|\n",
    "|online_backup| Does this person subscribe to online backup?| 'Yes', 'No', 'No internet service'\n",
    "|device_protection| Does this person subscribe to device protection?| 'Yes', 'No', 'No internet service'\n",
    "|tech_support| Does this person subscribe to tech support?| 'Yes', 'No', 'No internet service'\n",
    "|streaming_tv| Does this person subscribe to streaming TV?| 'Yes', 'No', 'No internet service'\n",
    "|streaming_movies| Does this person subscribe to streaming movies?| 'Yes', 'No', 'No internet service'\n",
    "|paperless_billing| Does this person use paperless billing?| 'Yes', 'No'\n",
    "|monthly_charges| The amount a customer is currently charged per month| *float* |\n",
    "|total_charges| The amount a customer has been charged since becoming a customer| *float* |\n",
    "|contract_type| The length of contract the customer currently has| 'Month-to-month', 'One-year', or 'Two-year'|\n",
    "|internet_service_type| Type of internet service | 'DSL', 'Fiber', 'None'|\n",
    "|payment_type| The way the customer pays their bill. |'Mailed check', 'Electronic check', 'Credit card (automatic)',\n",
    "       'Bank transfer (automatic)'\n",
    "|**Target variable**\n",
    "|churn_encoded| Did the customer leave the company? | {'Yes': 1, 'No': 0}|"
   ]
  },
  {
   "cell_type": "code",
   "execution_count": 3,
   "id": "b70e0cdc",
   "metadata": {},
   "outputs": [],
   "source": [
    "#clean the data to prep for exploration\n",
    "telco = w.clean_telco(telco_unclean)\n",
    "\n",
    "# splitting data into train, validate, and test\n",
    "train, validate, test = w.train_validate_test_split(telco, \"churn_encoded\")"
   ]
  },
  {
   "cell_type": "markdown",
   "id": "e05229cb",
   "metadata": {},
   "source": [
    "### A look at the data"
   ]
  },
  {
   "cell_type": "code",
   "execution_count": 4,
   "id": "f8f1eb5e",
   "metadata": {
    "scrolled": false
   },
   "outputs": [
    {
     "data": {
      "text/html": [
       "<div>\n",
       "<style scoped>\n",
       "    .dataframe tbody tr th:only-of-type {\n",
       "        vertical-align: middle;\n",
       "    }\n",
       "\n",
       "    .dataframe tbody tr th {\n",
       "        vertical-align: top;\n",
       "    }\n",
       "\n",
       "    .dataframe thead th {\n",
       "        text-align: right;\n",
       "    }\n",
       "</style>\n",
       "<table border=\"1\" class=\"dataframe\">\n",
       "  <thead>\n",
       "    <tr style=\"text-align: right;\">\n",
       "      <th></th>\n",
       "      <th>gender</th>\n",
       "      <th>senior_citizen</th>\n",
       "      <th>partner</th>\n",
       "      <th>dependents</th>\n",
       "      <th>tenure</th>\n",
       "      <th>phone_service</th>\n",
       "      <th>multiple_lines</th>\n",
       "      <th>online_security</th>\n",
       "      <th>online_backup</th>\n",
       "      <th>device_protection</th>\n",
       "      <th>tech_support</th>\n",
       "      <th>streaming_tv</th>\n",
       "      <th>streaming_movies</th>\n",
       "      <th>paperless_billing</th>\n",
       "      <th>monthly_charges</th>\n",
       "      <th>total_charges</th>\n",
       "      <th>contract_type</th>\n",
       "      <th>internet_service_type</th>\n",
       "      <th>payment_type</th>\n",
       "      <th>churn_encoded</th>\n",
       "    </tr>\n",
       "  </thead>\n",
       "  <tbody>\n",
       "    <tr>\n",
       "      <th>22</th>\n",
       "      <td>Female</td>\n",
       "      <td>0</td>\n",
       "      <td>Yes</td>\n",
       "      <td>Yes</td>\n",
       "      <td>23</td>\n",
       "      <td>Yes</td>\n",
       "      <td>Yes</td>\n",
       "      <td>No</td>\n",
       "      <td>No</td>\n",
       "      <td>No</td>\n",
       "      <td>No</td>\n",
       "      <td>Yes</td>\n",
       "      <td>No</td>\n",
       "      <td>Yes</td>\n",
       "      <td>83.75</td>\n",
       "      <td>1849.95</td>\n",
       "      <td>Month-to-month</td>\n",
       "      <td>Fiber optic</td>\n",
       "      <td>Electronic check</td>\n",
       "      <td>0</td>\n",
       "    </tr>\n",
       "    <tr>\n",
       "      <th>4999</th>\n",
       "      <td>Male</td>\n",
       "      <td>1</td>\n",
       "      <td>No</td>\n",
       "      <td>No</td>\n",
       "      <td>47</td>\n",
       "      <td>Yes</td>\n",
       "      <td>Yes</td>\n",
       "      <td>No</td>\n",
       "      <td>Yes</td>\n",
       "      <td>No</td>\n",
       "      <td>Yes</td>\n",
       "      <td>No</td>\n",
       "      <td>No</td>\n",
       "      <td>No</td>\n",
       "      <td>59.60</td>\n",
       "      <td>2754.00</td>\n",
       "      <td>Two year</td>\n",
       "      <td>DSL</td>\n",
       "      <td>Bank transfer (automatic)</td>\n",
       "      <td>0</td>\n",
       "    </tr>\n",
       "    <tr>\n",
       "      <th>2563</th>\n",
       "      <td>Female</td>\n",
       "      <td>0</td>\n",
       "      <td>No</td>\n",
       "      <td>No</td>\n",
       "      <td>19</td>\n",
       "      <td>No</td>\n",
       "      <td>No phone service</td>\n",
       "      <td>No</td>\n",
       "      <td>Yes</td>\n",
       "      <td>No</td>\n",
       "      <td>No</td>\n",
       "      <td>No</td>\n",
       "      <td>Yes</td>\n",
       "      <td>Yes</td>\n",
       "      <td>39.70</td>\n",
       "      <td>710.05</td>\n",
       "      <td>Month-to-month</td>\n",
       "      <td>DSL</td>\n",
       "      <td>Electronic check</td>\n",
       "      <td>0</td>\n",
       "    </tr>\n",
       "    <tr>\n",
       "      <th>5501</th>\n",
       "      <td>Female</td>\n",
       "      <td>0</td>\n",
       "      <td>No</td>\n",
       "      <td>No</td>\n",
       "      <td>28</td>\n",
       "      <td>No</td>\n",
       "      <td>No phone service</td>\n",
       "      <td>No</td>\n",
       "      <td>No</td>\n",
       "      <td>Yes</td>\n",
       "      <td>Yes</td>\n",
       "      <td>No</td>\n",
       "      <td>No</td>\n",
       "      <td>Yes</td>\n",
       "      <td>35.75</td>\n",
       "      <td>961.40</td>\n",
       "      <td>Month-to-month</td>\n",
       "      <td>DSL</td>\n",
       "      <td>Mailed check</td>\n",
       "      <td>0</td>\n",
       "    </tr>\n",
       "    <tr>\n",
       "      <th>4344</th>\n",
       "      <td>Male</td>\n",
       "      <td>1</td>\n",
       "      <td>Yes</td>\n",
       "      <td>No</td>\n",
       "      <td>41</td>\n",
       "      <td>No</td>\n",
       "      <td>No phone service</td>\n",
       "      <td>No</td>\n",
       "      <td>Yes</td>\n",
       "      <td>Yes</td>\n",
       "      <td>No</td>\n",
       "      <td>Yes</td>\n",
       "      <td>Yes</td>\n",
       "      <td>Yes</td>\n",
       "      <td>53.95</td>\n",
       "      <td>2215.40</td>\n",
       "      <td>Month-to-month</td>\n",
       "      <td>DSL</td>\n",
       "      <td>Electronic check</td>\n",
       "      <td>0</td>\n",
       "    </tr>\n",
       "  </tbody>\n",
       "</table>\n",
       "</div>"
      ],
      "text/plain": [
       "      gender  senior_citizen partner dependents  tenure phone_service  \\\n",
       "22    Female               0     Yes        Yes      23           Yes   \n",
       "4999    Male               1      No         No      47           Yes   \n",
       "2563  Female               0      No         No      19            No   \n",
       "5501  Female               0      No         No      28            No   \n",
       "4344    Male               1     Yes         No      41            No   \n",
       "\n",
       "        multiple_lines online_security online_backup device_protection  \\\n",
       "22                 Yes              No            No                No   \n",
       "4999               Yes              No           Yes                No   \n",
       "2563  No phone service              No           Yes                No   \n",
       "5501  No phone service              No            No               Yes   \n",
       "4344  No phone service              No           Yes               Yes   \n",
       "\n",
       "     tech_support streaming_tv streaming_movies paperless_billing  \\\n",
       "22             No          Yes               No               Yes   \n",
       "4999          Yes           No               No                No   \n",
       "2563           No           No              Yes               Yes   \n",
       "5501          Yes           No               No               Yes   \n",
       "4344           No          Yes              Yes               Yes   \n",
       "\n",
       "      monthly_charges  total_charges   contract_type internet_service_type  \\\n",
       "22              83.75        1849.95  Month-to-month           Fiber optic   \n",
       "4999            59.60        2754.00        Two year                   DSL   \n",
       "2563            39.70         710.05  Month-to-month                   DSL   \n",
       "5501            35.75         961.40  Month-to-month                   DSL   \n",
       "4344            53.95        2215.40  Month-to-month                   DSL   \n",
       "\n",
       "                   payment_type  churn_encoded  \n",
       "22             Electronic check              0  \n",
       "4999  Bank transfer (automatic)              0  \n",
       "2563           Electronic check              0  \n",
       "5501               Mailed check              0  \n",
       "4344           Electronic check              0  "
      ]
     },
     "execution_count": 4,
     "metadata": {},
     "output_type": "execute_result"
    }
   ],
   "source": [
    "#show the first few rows of the train data\n",
    "train.head()"
   ]
  },
  {
   "cell_type": "markdown",
   "id": "4ae1990b",
   "metadata": {},
   "source": [
    "### Data summary"
   ]
  },
  {
   "cell_type": "code",
   "execution_count": 5,
   "id": "1e1f9ddc",
   "metadata": {},
   "outputs": [
    {
     "data": {
      "text/html": [
       "<div>\n",
       "<style scoped>\n",
       "    .dataframe tbody tr th:only-of-type {\n",
       "        vertical-align: middle;\n",
       "    }\n",
       "\n",
       "    .dataframe tbody tr th {\n",
       "        vertical-align: top;\n",
       "    }\n",
       "\n",
       "    .dataframe thead th {\n",
       "        text-align: right;\n",
       "    }\n",
       "</style>\n",
       "<table border=\"1\" class=\"dataframe\">\n",
       "  <thead>\n",
       "    <tr style=\"text-align: right;\">\n",
       "      <th></th>\n",
       "      <th>count</th>\n",
       "      <th>unique</th>\n",
       "      <th>top</th>\n",
       "      <th>freq</th>\n",
       "      <th>mean</th>\n",
       "      <th>std</th>\n",
       "      <th>min</th>\n",
       "      <th>25%</th>\n",
       "      <th>50%</th>\n",
       "      <th>75%</th>\n",
       "      <th>max</th>\n",
       "    </tr>\n",
       "  </thead>\n",
       "  <tbody>\n",
       "    <tr>\n",
       "      <th>gender</th>\n",
       "      <td>4572</td>\n",
       "      <td>2</td>\n",
       "      <td>Male</td>\n",
       "      <td>2325</td>\n",
       "      <td>NaN</td>\n",
       "      <td>NaN</td>\n",
       "      <td>NaN</td>\n",
       "      <td>NaN</td>\n",
       "      <td>NaN</td>\n",
       "      <td>NaN</td>\n",
       "      <td>NaN</td>\n",
       "    </tr>\n",
       "    <tr>\n",
       "      <th>senior_citizen</th>\n",
       "      <td>4572.0</td>\n",
       "      <td>NaN</td>\n",
       "      <td>NaN</td>\n",
       "      <td>NaN</td>\n",
       "      <td>0.163823</td>\n",
       "      <td>0.370156</td>\n",
       "      <td>0.0</td>\n",
       "      <td>0.0</td>\n",
       "      <td>0.0</td>\n",
       "      <td>0.0</td>\n",
       "      <td>1.0</td>\n",
       "    </tr>\n",
       "    <tr>\n",
       "      <th>partner</th>\n",
       "      <td>4572</td>\n",
       "      <td>2</td>\n",
       "      <td>No</td>\n",
       "      <td>2390</td>\n",
       "      <td>NaN</td>\n",
       "      <td>NaN</td>\n",
       "      <td>NaN</td>\n",
       "      <td>NaN</td>\n",
       "      <td>NaN</td>\n",
       "      <td>NaN</td>\n",
       "      <td>NaN</td>\n",
       "    </tr>\n",
       "    <tr>\n",
       "      <th>dependents</th>\n",
       "      <td>4572</td>\n",
       "      <td>2</td>\n",
       "      <td>No</td>\n",
       "      <td>3195</td>\n",
       "      <td>NaN</td>\n",
       "      <td>NaN</td>\n",
       "      <td>NaN</td>\n",
       "      <td>NaN</td>\n",
       "      <td>NaN</td>\n",
       "      <td>NaN</td>\n",
       "      <td>NaN</td>\n",
       "    </tr>\n",
       "    <tr>\n",
       "      <th>tenure</th>\n",
       "      <td>4572.0</td>\n",
       "      <td>NaN</td>\n",
       "      <td>NaN</td>\n",
       "      <td>NaN</td>\n",
       "      <td>32.479221</td>\n",
       "      <td>24.626046</td>\n",
       "      <td>1.0</td>\n",
       "      <td>9.0</td>\n",
       "      <td>29.0</td>\n",
       "      <td>56.0</td>\n",
       "      <td>72.0</td>\n",
       "    </tr>\n",
       "    <tr>\n",
       "      <th>phone_service</th>\n",
       "      <td>4572</td>\n",
       "      <td>2</td>\n",
       "      <td>Yes</td>\n",
       "      <td>4132</td>\n",
       "      <td>NaN</td>\n",
       "      <td>NaN</td>\n",
       "      <td>NaN</td>\n",
       "      <td>NaN</td>\n",
       "      <td>NaN</td>\n",
       "      <td>NaN</td>\n",
       "      <td>NaN</td>\n",
       "    </tr>\n",
       "    <tr>\n",
       "      <th>multiple_lines</th>\n",
       "      <td>4572</td>\n",
       "      <td>3</td>\n",
       "      <td>No</td>\n",
       "      <td>2205</td>\n",
       "      <td>NaN</td>\n",
       "      <td>NaN</td>\n",
       "      <td>NaN</td>\n",
       "      <td>NaN</td>\n",
       "      <td>NaN</td>\n",
       "      <td>NaN</td>\n",
       "      <td>NaN</td>\n",
       "    </tr>\n",
       "    <tr>\n",
       "      <th>online_security</th>\n",
       "      <td>4572</td>\n",
       "      <td>3</td>\n",
       "      <td>No</td>\n",
       "      <td>2273</td>\n",
       "      <td>NaN</td>\n",
       "      <td>NaN</td>\n",
       "      <td>NaN</td>\n",
       "      <td>NaN</td>\n",
       "      <td>NaN</td>\n",
       "      <td>NaN</td>\n",
       "      <td>NaN</td>\n",
       "    </tr>\n",
       "    <tr>\n",
       "      <th>online_backup</th>\n",
       "      <td>4572</td>\n",
       "      <td>3</td>\n",
       "      <td>No</td>\n",
       "      <td>2006</td>\n",
       "      <td>NaN</td>\n",
       "      <td>NaN</td>\n",
       "      <td>NaN</td>\n",
       "      <td>NaN</td>\n",
       "      <td>NaN</td>\n",
       "      <td>NaN</td>\n",
       "      <td>NaN</td>\n",
       "    </tr>\n",
       "    <tr>\n",
       "      <th>device_protection</th>\n",
       "      <td>4572</td>\n",
       "      <td>3</td>\n",
       "      <td>No</td>\n",
       "      <td>2010</td>\n",
       "      <td>NaN</td>\n",
       "      <td>NaN</td>\n",
       "      <td>NaN</td>\n",
       "      <td>NaN</td>\n",
       "      <td>NaN</td>\n",
       "      <td>NaN</td>\n",
       "      <td>NaN</td>\n",
       "    </tr>\n",
       "    <tr>\n",
       "      <th>tech_support</th>\n",
       "      <td>4572</td>\n",
       "      <td>3</td>\n",
       "      <td>No</td>\n",
       "      <td>2262</td>\n",
       "      <td>NaN</td>\n",
       "      <td>NaN</td>\n",
       "      <td>NaN</td>\n",
       "      <td>NaN</td>\n",
       "      <td>NaN</td>\n",
       "      <td>NaN</td>\n",
       "      <td>NaN</td>\n",
       "    </tr>\n",
       "    <tr>\n",
       "      <th>streaming_tv</th>\n",
       "      <td>4572</td>\n",
       "      <td>3</td>\n",
       "      <td>No</td>\n",
       "      <td>1840</td>\n",
       "      <td>NaN</td>\n",
       "      <td>NaN</td>\n",
       "      <td>NaN</td>\n",
       "      <td>NaN</td>\n",
       "      <td>NaN</td>\n",
       "      <td>NaN</td>\n",
       "      <td>NaN</td>\n",
       "    </tr>\n",
       "    <tr>\n",
       "      <th>streaming_movies</th>\n",
       "      <td>4572</td>\n",
       "      <td>3</td>\n",
       "      <td>No</td>\n",
       "      <td>1809</td>\n",
       "      <td>NaN</td>\n",
       "      <td>NaN</td>\n",
       "      <td>NaN</td>\n",
       "      <td>NaN</td>\n",
       "      <td>NaN</td>\n",
       "      <td>NaN</td>\n",
       "      <td>NaN</td>\n",
       "    </tr>\n",
       "    <tr>\n",
       "      <th>paperless_billing</th>\n",
       "      <td>4572</td>\n",
       "      <td>2</td>\n",
       "      <td>Yes</td>\n",
       "      <td>2723</td>\n",
       "      <td>NaN</td>\n",
       "      <td>NaN</td>\n",
       "      <td>NaN</td>\n",
       "      <td>NaN</td>\n",
       "      <td>NaN</td>\n",
       "      <td>NaN</td>\n",
       "      <td>NaN</td>\n",
       "    </tr>\n",
       "    <tr>\n",
       "      <th>monthly_charges</th>\n",
       "      <td>4572.0</td>\n",
       "      <td>NaN</td>\n",
       "      <td>NaN</td>\n",
       "      <td>NaN</td>\n",
       "      <td>64.170997</td>\n",
       "      <td>30.136325</td>\n",
       "      <td>18.25</td>\n",
       "      <td>34.2875</td>\n",
       "      <td>69.95</td>\n",
       "      <td>89.55</td>\n",
       "      <td>118.6</td>\n",
       "    </tr>\n",
       "    <tr>\n",
       "      <th>total_charges</th>\n",
       "      <td>4572.0</td>\n",
       "      <td>NaN</td>\n",
       "      <td>NaN</td>\n",
       "      <td>NaN</td>\n",
       "      <td>2266.066328</td>\n",
       "      <td>2273.638692</td>\n",
       "      <td>18.8</td>\n",
       "      <td>393.9375</td>\n",
       "      <td>1355.275</td>\n",
       "      <td>3808.6375</td>\n",
       "      <td>8594.4</td>\n",
       "    </tr>\n",
       "    <tr>\n",
       "      <th>contract_type</th>\n",
       "      <td>4572</td>\n",
       "      <td>3</td>\n",
       "      <td>Month-to-month</td>\n",
       "      <td>2498</td>\n",
       "      <td>NaN</td>\n",
       "      <td>NaN</td>\n",
       "      <td>NaN</td>\n",
       "      <td>NaN</td>\n",
       "      <td>NaN</td>\n",
       "      <td>NaN</td>\n",
       "      <td>NaN</td>\n",
       "    </tr>\n",
       "    <tr>\n",
       "      <th>internet_service_type</th>\n",
       "      <td>4572</td>\n",
       "      <td>3</td>\n",
       "      <td>Fiber optic</td>\n",
       "      <td>1983</td>\n",
       "      <td>NaN</td>\n",
       "      <td>NaN</td>\n",
       "      <td>NaN</td>\n",
       "      <td>NaN</td>\n",
       "      <td>NaN</td>\n",
       "      <td>NaN</td>\n",
       "      <td>NaN</td>\n",
       "    </tr>\n",
       "    <tr>\n",
       "      <th>payment_type</th>\n",
       "      <td>4572</td>\n",
       "      <td>4</td>\n",
       "      <td>Electronic check</td>\n",
       "      <td>1511</td>\n",
       "      <td>NaN</td>\n",
       "      <td>NaN</td>\n",
       "      <td>NaN</td>\n",
       "      <td>NaN</td>\n",
       "      <td>NaN</td>\n",
       "      <td>NaN</td>\n",
       "      <td>NaN</td>\n",
       "    </tr>\n",
       "    <tr>\n",
       "      <th>churn_encoded</th>\n",
       "      <td>4572.0</td>\n",
       "      <td>NaN</td>\n",
       "      <td>NaN</td>\n",
       "      <td>NaN</td>\n",
       "      <td>0.265748</td>\n",
       "      <td>0.441779</td>\n",
       "      <td>0.0</td>\n",
       "      <td>0.0</td>\n",
       "      <td>0.0</td>\n",
       "      <td>1.0</td>\n",
       "      <td>1.0</td>\n",
       "    </tr>\n",
       "  </tbody>\n",
       "</table>\n",
       "</div>"
      ],
      "text/plain": [
       "                        count unique               top  freq         mean  \\\n",
       "gender                   4572      2              Male  2325          NaN   \n",
       "senior_citizen         4572.0    NaN               NaN   NaN     0.163823   \n",
       "partner                  4572      2                No  2390          NaN   \n",
       "dependents               4572      2                No  3195          NaN   \n",
       "tenure                 4572.0    NaN               NaN   NaN    32.479221   \n",
       "phone_service            4572      2               Yes  4132          NaN   \n",
       "multiple_lines           4572      3                No  2205          NaN   \n",
       "online_security          4572      3                No  2273          NaN   \n",
       "online_backup            4572      3                No  2006          NaN   \n",
       "device_protection        4572      3                No  2010          NaN   \n",
       "tech_support             4572      3                No  2262          NaN   \n",
       "streaming_tv             4572      3                No  1840          NaN   \n",
       "streaming_movies         4572      3                No  1809          NaN   \n",
       "paperless_billing        4572      2               Yes  2723          NaN   \n",
       "monthly_charges        4572.0    NaN               NaN   NaN    64.170997   \n",
       "total_charges          4572.0    NaN               NaN   NaN  2266.066328   \n",
       "contract_type            4572      3    Month-to-month  2498          NaN   \n",
       "internet_service_type    4572      3       Fiber optic  1983          NaN   \n",
       "payment_type             4572      4  Electronic check  1511          NaN   \n",
       "churn_encoded          4572.0    NaN               NaN   NaN     0.265748   \n",
       "\n",
       "                               std    min       25%       50%        75%  \\\n",
       "gender                         NaN    NaN       NaN       NaN        NaN   \n",
       "senior_citizen            0.370156    0.0       0.0       0.0        0.0   \n",
       "partner                        NaN    NaN       NaN       NaN        NaN   \n",
       "dependents                     NaN    NaN       NaN       NaN        NaN   \n",
       "tenure                   24.626046    1.0       9.0      29.0       56.0   \n",
       "phone_service                  NaN    NaN       NaN       NaN        NaN   \n",
       "multiple_lines                 NaN    NaN       NaN       NaN        NaN   \n",
       "online_security                NaN    NaN       NaN       NaN        NaN   \n",
       "online_backup                  NaN    NaN       NaN       NaN        NaN   \n",
       "device_protection              NaN    NaN       NaN       NaN        NaN   \n",
       "tech_support                   NaN    NaN       NaN       NaN        NaN   \n",
       "streaming_tv                   NaN    NaN       NaN       NaN        NaN   \n",
       "streaming_movies               NaN    NaN       NaN       NaN        NaN   \n",
       "paperless_billing              NaN    NaN       NaN       NaN        NaN   \n",
       "monthly_charges          30.136325  18.25   34.2875     69.95      89.55   \n",
       "total_charges          2273.638692   18.8  393.9375  1355.275  3808.6375   \n",
       "contract_type                  NaN    NaN       NaN       NaN        NaN   \n",
       "internet_service_type          NaN    NaN       NaN       NaN        NaN   \n",
       "payment_type                   NaN    NaN       NaN       NaN        NaN   \n",
       "churn_encoded             0.441779    0.0       0.0       0.0        1.0   \n",
       "\n",
       "                          max  \n",
       "gender                    NaN  \n",
       "senior_citizen            1.0  \n",
       "partner                   NaN  \n",
       "dependents                NaN  \n",
       "tenure                   72.0  \n",
       "phone_service             NaN  \n",
       "multiple_lines            NaN  \n",
       "online_security           NaN  \n",
       "online_backup             NaN  \n",
       "device_protection         NaN  \n",
       "tech_support              NaN  \n",
       "streaming_tv              NaN  \n",
       "streaming_movies          NaN  \n",
       "paperless_billing         NaN  \n",
       "monthly_charges         118.6  \n",
       "total_charges          8594.4  \n",
       "contract_type             NaN  \n",
       "internet_service_type     NaN  \n",
       "payment_type              NaN  \n",
       "churn_encoded             1.0  "
      ]
     },
     "execution_count": 5,
     "metadata": {},
     "output_type": "execute_result"
    }
   ],
   "source": [
    "#look at data statistics\n",
    "train.describe(include='all').T"
   ]
  },
  {
   "cell_type": "markdown",
   "id": "immediate-mirror",
   "metadata": {},
   "source": [
    "## Explore\n",
    "\n",
    "* Here you will explore your data then highlight 4 questions that you asked of the data and how those questions influenced your analysis\n",
    "* Remember to split your data before exploring how different variables relate to one another\n",
    "* Each question should be stated directly \n",
    "* Each question should be supported by a visualization\n",
    "* Each question should be answered in natural language\n",
    "* Two questions must be supported by a statistical test, but you may choose to support more than two\n",
    "* See the following example, and read the comments in the next cell"
   ]
  },
  {
   "cell_type": "markdown",
   "id": "functional-sierra",
   "metadata": {},
   "source": [
    "**The following empty code block** is here to represent the countless questions, visualizations, and statistical tests \n",
    "that did not make your final report. Data scientist often create a myriad of questions, visualizations \n",
    "and statistical tests that do not make it into the final notebook. This is okay and expected. Remember \n",
    "that shotgun approaches to your data such as using pair plots to look at the relationships of each feature \n",
    "are a great way to explore your data, but they have no place in your final report. \n",
    "**Your final report is about showing and supporting your findings, not showing the work you did to get there!**"
   ]
  },
  {
   "cell_type": "code",
   "execution_count": 6,
   "id": "c6e7bbd7",
   "metadata": {},
   "outputs": [],
   "source": [
    "#split data for exploration into a dataframe that shows all info on those who churned\n",
    "train_churn = train[train.churn_encoded == 1]\n",
    "\n",
    "#and a dataframe that show all info on those who didn't churn\n",
    "train_no_churn = train[train.churn_encoded == 0]"
   ]
  },
  {
   "cell_type": "markdown",
   "id": "2b06e4e4",
   "metadata": {},
   "source": [
    "### 1. What percentage of our customers have churned?"
   ]
  },
  {
   "cell_type": "code",
   "execution_count": 7,
   "id": "39ed3dee",
   "metadata": {},
   "outputs": [
    {
     "data": {
      "image/png": "[encoded data removed]",
      "text/plain": [
       "<Figure size 432x288 with 1 Axes>"
      ]
     },
     "metadata": {},
     "output_type": "display_data"
    }
   ],
   "source": [
    "#show percentage of customers who churned from the train data\n",
    "e.churn_percentage(train)"
   ]
  },
  {
   "cell_type": "markdown",
   "id": "f1ceae24",
   "metadata": {},
   "source": [
    "**A little over 1/4 of customers in the training data churn.**"
   ]
  },
  {
   "cell_type": "markdown",
   "id": "d4968c6b",
   "metadata": {},
   "source": [
    "## 2. Does a customer's tenure affect churn? "
   ]
  },
  {
   "cell_type": "code",
   "execution_count": 8,
   "id": "09cefdec",
   "metadata": {},
   "outputs": [
    {
     "data": {
      "image/png": "[encoded data removed]",
      "text/plain": [
       "<Figure size 432x288 with 1 Axes>"
      ]
     },
     "metadata": {
      "needs_background": "light"
     },
     "output_type": "display_data"
    },
    {
     "data": {
      "image/png": "[encoded data removed]",
      "text/plain": [
       "<Figure size 432x288 with 1 Axes>"
      ]
     },
     "metadata": {
      "needs_background": "light"
     },
     "output_type": "display_data"
    }
   ],
   "source": [
    "#plot tenure of those who churned and didn't churn\n",
    "e.tenure_viz(train)"
   ]
  },
  {
   "cell_type": "markdown",
   "id": "92fd4878",
   "metadata": {},
   "source": [
    "**It looks like those who have been a customer a shorter amount of time churn more**"
   ]
  },
  {
   "cell_type": "markdown",
   "id": "98380cef",
   "metadata": {},
   "source": [
    "**In order to confirm this prediction, I will now do a T-test to test for a significant difference between tenure of those who churn and don't churn**\n",
    "* My confidence interval is 95%\n",
    "* Resulting alpha is .05"
   ]
  },
  {
   "cell_type": "code",
   "execution_count": 9,
   "id": "682dcb1b",
   "metadata": {},
   "outputs": [],
   "source": [
    "alpha = 0.05"
   ]
  },
  {
   "cell_type": "markdown",
   "id": "cb597003",
   "metadata": {},
   "source": [
    "**To run a T-test we have to check our assumptions**\n",
    "* **Independent:** Yes. Two separate groups churn and no_churn\n",
    "* **Normal distribution:** Yes. Enough observations\n",
    "* **Equal variances:** Check $\\Downarrow$"
   ]
  },
  {
   "cell_type": "code",
   "execution_count": 10,
   "id": "c1eadd1c",
   "metadata": {
    "scrolled": true
   },
   "outputs": [
    {
     "data": {
      "text/plain": [
       "LeveneResult(statistic=279.0983604857994, pvalue=7.303234343977914e-61)"
      ]
     },
     "execution_count": 10,
     "metadata": {},
     "output_type": "execute_result"
    }
   ],
   "source": [
    "stats.levene(train_churn.tenure, train_no_churn.tenure)"
   ]
  },
  {
   "cell_type": "markdown",
   "id": "85155a04",
   "metadata": {},
   "source": [
    "pvalue < alpha so they are NOT equal and we must use equal_var = False"
   ]
  },
  {
   "cell_type": "markdown",
   "id": "e3e74276",
   "metadata": {},
   "source": [
    "**Set Hypothesis**\n",
    "\n",
    "$H_0$ = There is no difference in tenure between those who churn and don't churn \n",
    "\n",
    "$H_a$ = There is a difference in tenure between those who churn and don't churn "
   ]
  },
  {
   "cell_type": "code",
   "execution_count": 11,
   "id": "7ef4cd54",
   "metadata": {},
   "outputs": [],
   "source": [
    "tstat, p = stats.ttest_ind(train_churn.tenure, train_no_churn.tenure, equal_var= False)"
   ]
  },
  {
   "cell_type": "code",
   "execution_count": 12,
   "id": "757cbee7",
   "metadata": {},
   "outputs": [
    {
     "name": "stdout",
     "output_type": "stream",
     "text": [
      "tstat: -29.127546311454513\n",
      "p-value: 6.457343935652863e-162\n",
      "p < alpha, so we can reject the null hypothesis and say there is probably a difference in tenure between those who churn and don't churn.\n"
     ]
    }
   ],
   "source": [
    "if (p < alpha):\n",
    "    print(f\"tstat: {tstat}\\np-value: {p}\\np < alpha, so we can reject the null hypothesis and say there is probably a difference in tenure between those who churn and don't churn.\")\n",
    "else:\n",
    "    print(f\"tstat: {tstat}\\np-value: {p}\\np > alpha, so we fail to reject the null hypothesis and say there is no difference in tenure between those who churn and don't churn.\")"
   ]
  },
  {
   "cell_type": "markdown",
   "id": "6c2db123",
   "metadata": {},
   "source": [
    "**Based on the visualizations and the results from the T-test, I think that tenure should be used in my model to help with the model's accuracy.**"
   ]
  },
  {
   "cell_type": "markdown",
   "id": "c85e2983",
   "metadata": {},
   "source": [
    "## 3. Do higher monthly charges affect churn?"
   ]
  },
  {
   "cell_type": "code",
   "execution_count": 13,
   "id": "bbdbb6c3",
   "metadata": {},
   "outputs": [
    {
     "data": {
      "image/png": "[encoded data removed]",
      "text/plain": [
       "<Figure size 432x288 with 1 Axes>"
      ]
     },
     "metadata": {
      "needs_background": "light"
     },
     "output_type": "display_data"
    }
   ],
   "source": [
    "e.monthly_charges_viz(train)"
   ]
  },
  {
   "cell_type": "markdown",
   "id": "621dbe35",
   "metadata": {},
   "source": [
    "**It looks like those who churn have higher monthly charges**"
   ]
  },
  {
   "cell_type": "markdown",
   "id": "b7f18c58",
   "metadata": {},
   "source": [
    "**In order to confirm this prediction, I will now do a T-test to test if monthly charges of those who churn are higher than those who don't churn**\n",
    "* My confidence interval is 95%\n",
    "* Resulting alpha is .05"
   ]
  },
  {
   "cell_type": "markdown",
   "id": "95891eab",
   "metadata": {},
   "source": [
    "**To run a T-test we have to check our assumptions**\n",
    "* **Independent:** Yes. Two separate groups churn and no_churn\n",
    "* **Normal distribution:** Yes. Enough observations\n",
    "* **Equal variances:** Check $\\Downarrow$"
   ]
  },
  {
   "cell_type": "code",
   "execution_count": 14,
   "id": "871f95b9",
   "metadata": {
    "scrolled": true
   },
   "outputs": [
    {
     "data": {
      "text/plain": [
       "LeveneResult(statistic=248.35641580913386, pvalue=1.5798656854889806e-54)"
      ]
     },
     "execution_count": 14,
     "metadata": {},
     "output_type": "execute_result"
    }
   ],
   "source": [
    "stats.levene(train_churn.monthly_charges, train_no_churn.monthly_charges)"
   ]
  },
  {
   "cell_type": "markdown",
   "id": "6790cdd6",
   "metadata": {},
   "source": [
    "pvalue < alpha so they are NOT equal and we must use equal_var = False"
   ]
  },
  {
   "cell_type": "markdown",
   "id": "aad81067",
   "metadata": {},
   "source": [
    "$H_0$ = Monthly charges of those who churn $\\leq$ monthly charges of those who don't churn\n",
    "\n",
    "$H_a$ = Monthly charges of those who churn $>$ monthly charges of those who don't churn"
   ]
  },
  {
   "cell_type": "code",
   "execution_count": 15,
   "id": "e11e4e97",
   "metadata": {},
   "outputs": [],
   "source": [
    "tstat, p = stats.ttest_ind(train_churn.monthly_charges, train_no_churn.monthly_charges, equal_var= False)"
   ]
  },
  {
   "cell_type": "code",
   "execution_count": 16,
   "id": "45c2f726",
   "metadata": {},
   "outputs": [
    {
     "name": "stdout",
     "output_type": "stream",
     "text": [
      "tstat: 14.538647732040117\n",
      "p-value: 3.646511386011469e-46\n",
      "p/2 < alpha, so we can reject the null hypothesis and say monthly charges of those who churn are higher than those who don't churn.\n"
     ]
    }
   ],
   "source": [
    "if (p/2 < alpha):\n",
    "    print(f\"tstat: {tstat}\\np-value: {p}\\np/2 < alpha, so we can reject the null hypothesis and say monthly charges of those who churn are higher than those who don't churn.\")\n",
    "else:\n",
    "    print(f\"tstat: {tstat}\\np-value: {p}\\np > alpha, so we fail to reject the null hypothesis and say monthly charges of those who churn are not higher than those who don't churn.\")"
   ]
  },
  {
   "cell_type": "markdown",
   "id": "20b67a47",
   "metadata": {},
   "source": [
    "**Based on the visualizations and the results from the T-test, I think that monthly charges should be used in my model to help with the model's accuracy.**"
   ]
  },
  {
   "cell_type": "markdown",
   "id": "b20e7292",
   "metadata": {},
   "source": [
    "## 4. Does contract type affect churn?"
   ]
  },
  {
   "cell_type": "code",
   "execution_count": 17,
   "id": "d675eac0",
   "metadata": {},
   "outputs": [
    {
     "data": {
      "image/png": "[encoded data removed]",
      "text/plain": [
       "<Figure size 432x288 with 1 Axes>"
      ]
     },
     "metadata": {
      "needs_background": "light"
     },
     "output_type": "display_data"
    }
   ],
   "source": [
    "sns.barplot(x=\"contract_type\", y=\"churn_encoded\", data=train, palette='pastel')\n",
    "rate = train[\"churn_encoded\"].mean()\n",
    "plt.axhline(rate, label = f'Average churn rate', linestyle='--', color='black')\n",
    "plt.legend()\n",
    "plt.show()"
   ]
  },
  {
   "cell_type": "markdown",
   "id": "83cb0a0d",
   "metadata": {},
   "source": [
    "**It looks like those who have a month-to-month contract churn well above the average churn rate. I predict there is a relationship between contract type and churn**"
   ]
  },
  {
   "cell_type": "markdown",
   "id": "87f58841",
   "metadata": {},
   "source": [
    "**In order to confirm this prediction, I will now do a $\\chi^2$ test to check if there is a relationship between contract type and churn**\n",
    "* My confidence interval is 95%\n",
    "* Resulting alpha is .05"
   ]
  },
  {
   "cell_type": "markdown",
   "id": "7a6c9b86",
   "metadata": {},
   "source": [
    "$H_0$ = Contract type and churn are not related.\n",
    "\n",
    "$H_a$ = Contract type and churn are related."
   ]
  },
  {
   "cell_type": "code",
   "execution_count": 18,
   "id": "25348b72",
   "metadata": {},
   "outputs": [
    {
     "data": {
      "text/html": [
       "<div>\n",
       "<style scoped>\n",
       "    .dataframe tbody tr th:only-of-type {\n",
       "        vertical-align: middle;\n",
       "    }\n",
       "\n",
       "    .dataframe tbody tr th {\n",
       "        vertical-align: top;\n",
       "    }\n",
       "\n",
       "    .dataframe thead th {\n",
       "        text-align: right;\n",
       "    }\n",
       "</style>\n",
       "<table border=\"1\" class=\"dataframe\">\n",
       "  <thead>\n",
       "    <tr style=\"text-align: right;\">\n",
       "      <th>churn_encoded</th>\n",
       "      <th>0</th>\n",
       "      <th>1</th>\n",
       "    </tr>\n",
       "    <tr>\n",
       "      <th>contract_type</th>\n",
       "      <th></th>\n",
       "      <th></th>\n",
       "    </tr>\n",
       "  </thead>\n",
       "  <tbody>\n",
       "    <tr>\n",
       "      <th>Month-to-month</th>\n",
       "      <td>1417</td>\n",
       "      <td>1081</td>\n",
       "    </tr>\n",
       "    <tr>\n",
       "      <th>One year</th>\n",
       "      <td>866</td>\n",
       "      <td>103</td>\n",
       "    </tr>\n",
       "    <tr>\n",
       "      <th>Two year</th>\n",
       "      <td>1074</td>\n",
       "      <td>31</td>\n",
       "    </tr>\n",
       "  </tbody>\n",
       "</table>\n",
       "</div>"
      ],
      "text/plain": [
       "churn_encoded      0     1\n",
       "contract_type             \n",
       "Month-to-month  1417  1081\n",
       "One year         866   103\n",
       "Two year        1074    31"
      ]
     },
     "execution_count": 18,
     "metadata": {},
     "output_type": "execute_result"
    }
   ],
   "source": [
    "observed = pd.crosstab(train[\"contract_type\"], train[\"churn_encoded\"])\n",
    "observed"
   ]
  },
  {
   "cell_type": "code",
   "execution_count": 19,
   "id": "46758d5e",
   "metadata": {},
   "outputs": [],
   "source": [
    "chi2, p, degf, expected = stats.chi2_contingency(observed)"
   ]
  },
  {
   "cell_type": "code",
   "execution_count": 20,
   "id": "3fa48431",
   "metadata": {},
   "outputs": [
    {
     "name": "stdout",
     "output_type": "stream",
     "text": [
      "Observed\n",
      "\n",
      "[[1417 1081]\n",
      " [ 866  103]\n",
      " [1074   31]]\n",
      "---\n",
      "Expected\n",
      "\n",
      "[[1834.16141732  663.83858268]\n",
      " [ 711.49015748  257.50984252]\n",
      " [ 811.3484252   293.6515748 ]]\n",
      "---\n",
      "\n",
      "chi^2 = 803.2392\n",
      "p     = 0.0000\n"
     ]
    }
   ],
   "source": [
    "print('Observed\\n')\n",
    "print(observed.values)\n",
    "print('---\\nExpected\\n')\n",
    "print(expected)\n",
    "print('---\\n')\n",
    "print(f'chi^2 = {chi2:.4f}')\n",
    "print(f'p     = {p:.4f}')"
   ]
  },
  {
   "cell_type": "code",
   "execution_count": 21,
   "id": "6c3df46a",
   "metadata": {},
   "outputs": [
    {
     "name": "stdout",
     "output_type": "stream",
     "text": [
      "χ^2: 803.2391996099897\n",
      "p-value: 3.7916127980609574e-175\n",
      "p/2 < alpha, we can reject the null hypothesis and say there is evidence that contract type and churn are related.\n"
     ]
    }
   ],
   "source": [
    "if (p < alpha):\n",
    "    print(f\"χ^2: {chi2}\\np-value: {p}\\np/2 < alpha, we can reject the null hypothesis and say there is evidence that contract type and churn are related.\")\n",
    "else:\n",
    "    print(f\"χ^2: {chi2}\\np-value: {p}\\np/2 > alpha, we fail to reject the null hypothesis and say there is not enough evidence to show contract type and churn are related.\")\n",
    "    \n",
    "    "
   ]
  },
  {
   "cell_type": "markdown",
   "id": "2e2b336b",
   "metadata": {},
   "source": [
    "**Based on the visualizations and the results from the $\\chi^2$ test, I think that contract type should be used in my model to help with the model's accuracy.**"
   ]
  },
  {
   "cell_type": "markdown",
   "id": "51341378",
   "metadata": {},
   "source": [
    "## 5. Do those with no tech support churn more?"
   ]
  },
  {
   "cell_type": "code",
   "execution_count": 22,
   "id": "5e68f94d",
   "metadata": {},
   "outputs": [
    {
     "data": {
      "image/png": "[encoded data removed]",
      "text/plain": [
       "<Figure size 432x288 with 1 Axes>"
      ]
     },
     "metadata": {
      "needs_background": "light"
     },
     "output_type": "display_data"
    }
   ],
   "source": [
    "sns.barplot(x=\"tech_support\", y=\"churn_encoded\", data=train, palette='pastel')\n",
    "rate = train[\"churn_encoded\"].mean()\n",
    "plt.axhline(rate, label = f'Average churn rate', linestyle='--', color='black')\n",
    "plt.legend()\n",
    "plt.show()"
   ]
  },
  {
   "cell_type": "markdown",
   "id": "9bbd5d46",
   "metadata": {},
   "source": [
    "**It looks like those who don't have tech suport might churn more. I predict there is a relationship between having tech support and churn**"
   ]
  },
  {
   "cell_type": "markdown",
   "id": "90fdbf34",
   "metadata": {},
   "source": [
    "$H_0$ = There is no relationship between having tech support and churn.\n",
    "\n",
    "$H_a$ = There is a relationship between having tech support and churn."
   ]
  },
  {
   "cell_type": "markdown",
   "id": "0233e5dc",
   "metadata": {},
   "source": [
    "**Independent:** Yes. Two separate groups churn and no_churn\n",
    "\n",
    "**Normal distribution:** Yes. Enough observations\n",
    "\n",
    "**Equal variances:** Check $\\Downarrow$"
   ]
  },
  {
   "cell_type": "code",
   "execution_count": 23,
   "id": "81a5502d",
   "metadata": {},
   "outputs": [
    {
     "data": {
      "text/html": [
       "<div>\n",
       "<style scoped>\n",
       "    .dataframe tbody tr th:only-of-type {\n",
       "        vertical-align: middle;\n",
       "    }\n",
       "\n",
       "    .dataframe tbody tr th {\n",
       "        vertical-align: top;\n",
       "    }\n",
       "\n",
       "    .dataframe thead th {\n",
       "        text-align: right;\n",
       "    }\n",
       "</style>\n",
       "<table border=\"1\" class=\"dataframe\">\n",
       "  <thead>\n",
       "    <tr style=\"text-align: right;\">\n",
       "      <th>churn_encoded</th>\n",
       "      <th>0</th>\n",
       "      <th>1</th>\n",
       "    </tr>\n",
       "    <tr>\n",
       "      <th>tech_support</th>\n",
       "      <th></th>\n",
       "      <th></th>\n",
       "    </tr>\n",
       "  </thead>\n",
       "  <tbody>\n",
       "    <tr>\n",
       "      <th>No</th>\n",
       "      <td>1310</td>\n",
       "      <td>952</td>\n",
       "    </tr>\n",
       "    <tr>\n",
       "      <th>No internet service</th>\n",
       "      <td>946</td>\n",
       "      <td>73</td>\n",
       "    </tr>\n",
       "    <tr>\n",
       "      <th>Yes</th>\n",
       "      <td>1101</td>\n",
       "      <td>190</td>\n",
       "    </tr>\n",
       "  </tbody>\n",
       "</table>\n",
       "</div>"
      ],
      "text/plain": [
       "churn_encoded           0    1\n",
       "tech_support                  \n",
       "No                   1310  952\n",
       "No internet service   946   73\n",
       "Yes                  1101  190"
      ]
     },
     "execution_count": 23,
     "metadata": {},
     "output_type": "execute_result"
    }
   ],
   "source": [
    "observed = pd.crosstab(train[\"tech_support\"], train[\"churn_encoded\"])\n",
    "observed"
   ]
  },
  {
   "cell_type": "code",
   "execution_count": 24,
   "id": "0a080788",
   "metadata": {},
   "outputs": [],
   "source": [
    "chi2, p, degf, expected = stats.chi2_contingency(observed)"
   ]
  },
  {
   "cell_type": "code",
   "execution_count": 25,
   "id": "ef249f35",
   "metadata": {},
   "outputs": [
    {
     "name": "stdout",
     "output_type": "stream",
     "text": [
      "Observed\n",
      "\n",
      "[[1310  952]\n",
      " [ 946   73]\n",
      " [1101  190]]\n",
      "---\n",
      "Expected\n",
      "\n",
      "[[1660.87795276  601.12204724]\n",
      " [ 748.20275591  270.79724409]\n",
      " [ 947.91929134  343.08070866]]\n",
      "---\n",
      "\n",
      "chi^2 = 568.727323866529\n",
      "p     = 3.1800267159444295e-124\n"
     ]
    }
   ],
   "source": [
    "print('Observed\\n')\n",
    "print(observed.values)\n",
    "print('---\\nExpected\\n')\n",
    "print(expected)\n",
    "print('---\\n')\n",
    "print(f'chi^2 = {chi2}')\n",
    "print(f'p     = {p}')"
   ]
  },
  {
   "cell_type": "code",
   "execution_count": 26,
   "id": "cb558f22",
   "metadata": {},
   "outputs": [
    {
     "name": "stdout",
     "output_type": "stream",
     "text": [
      "χ^2: 568.727323866529\n",
      "p-value: 3.1800267159444295e-124\n",
      "p/2 < alpha, we can reject the null hypothesis and say there is evidence that tech support and churn are related.\n"
     ]
    }
   ],
   "source": [
    "if (p < alpha):\n",
    "    print(f\"χ^2: {chi2}\\np-value: {p}\\np/2 < alpha, we can reject the null hypothesis and say there is evidence that tech support and churn are related.\")\n",
    "else:\n",
    "    print(f\"χ^2: {chi2}\\np-value: {p}\\np/2 > alpha, we fail to reject the null hypothesis and say there is not enough evidence to show tech support and churn are related.\")\n"
   ]
  },
  {
   "cell_type": "markdown",
   "id": "73b67274",
   "metadata": {},
   "source": [
    "**Based on the visualizations and the results from the $\\chi^2$ test, I think that tech support should be used in my model to help with the model's accuracy.**"
   ]
  },
  {
   "cell_type": "markdown",
   "id": "iraqi-sellers",
   "metadata": {},
   "source": [
    "### Exploration Summary\n",
    "* Tenure seems to be a driver of churn\n",
    "* Monthly_charges seem to be a driver of churn\n",
    "* Contract_type seems to be a driver of churn\n",
    "* Tech_support seems to be a driver of churn"
   ]
  },
  {
   "cell_type": "markdown",
   "id": "bee611a0",
   "metadata": {},
   "source": [
    "### Features I'm moving on with\n",
    "| Feature | Reason | \n",
    "|:--------|:-----------|\n",
    "|tenure| From our t-test we saw there is probably a difference in tenure between those who churn and don't churn.|\n",
    "|monthly_charges| From our t-test we saw there is probably a difference in monthly charges between those who churn and don't churn.|\n",
    "|contract_type| From our $\\chi^2$ test we saw there is probably a relationship between contract type and churn.|\n",
    "|tech_support| From our $\\chi^2$ test we saw there is probably a relationship between contract type and churn.|"
   ]
  },
  {
   "cell_type": "code",
   "execution_count": 27,
   "id": "1e3b5f83",
   "metadata": {},
   "outputs": [],
   "source": [
    "drivers =['churn_encoded', 'contract_type', 'monthly_charges', 'tenure', 'tech_support']"
   ]
  },
  {
   "cell_type": "markdown",
   "id": "8a419e13",
   "metadata": {},
   "source": [
    "### Features I'm not moving on with\n",
    "\n",
    "| Feature | Reason | \n",
    "|:--------|:-----------|\n",
    "|gender| No evidence that gender is a driver of churn\n",
    "|senior_citizen| No evidence that senior_citizen is a driver of churn\n",
    "|partner| No evidence that partner is a driver of churn\n",
    "|dependents| No evidence that dependents is a driver of churn\n",
    "|phone_service| No evidence that phone_service is a driver of churn\n",
    "|multiple_lines| No evidence that multiple_lines is a driver of churn\n",
    "|online_security| No evidence that online_security is a driver of churn\n",
    "|online_backup| No evidence that online_backup is a driver of churn\n",
    "|device_protection| No evidence that device_protection is a driver of churn\n",
    "|streaming_tv| No evidence that streaming_tv is a driver of churn\n",
    "|streaming_movies| No evidence that streaming_movies is a driver of churn\n",
    "|paperless_billing| No evidence that paperless_billing is a driver of churn\n",
    "|total_charges| There is a strong correlation between total_charges and tenure and between total_charges and monthly_charges. Since I will take tenure and monthly_charges into my model, total_charges is not needed.\n",
    "|internet_service_type| No evidence that internet_service_type is a driver of churn\n",
    "|payment_type| No evidence that payment_type is a driver of churn\n"
   ]
  },
  {
   "cell_type": "markdown",
   "id": "minus-tulsa",
   "metadata": {},
   "source": [
    "# Modeling\n",
    "\n",
    "* I will use accuracy as my evaluation metric\n",
    "* I had looked at recall, but we cannot determine that false negatives are more costly unless we get more information from the company.\n",
    "* Didn't churn customers make up 73% of the train data"
   ]
  },
  {
   "cell_type": "code",
   "execution_count": 28,
   "id": "9efad544",
   "metadata": {},
   "outputs": [],
   "source": [
    "X_train, y_train, X_validate, y_validate, X_test, y_test = w.prep_for_model(train, validate, test, \"churn_encoded\", drivers)"
   ]
  },
  {
   "cell_type": "code",
   "execution_count": 29,
   "id": "ranging-rebecca",
   "metadata": {},
   "outputs": [
    {
     "name": "stdout",
     "output_type": "stream",
     "text": [
      "Baseline accuracy: 73.43%\n"
     ]
    }
   ],
   "source": [
    "#baseline based on the percentage of the mode\n",
    "baseline = y_train.value_counts(normalize=True).max()\n",
    "print(f'Baseline accuracy: {baseline:.2%}')"
   ]
  },
  {
   "cell_type": "markdown",
   "id": "emotional-purchase",
   "metadata": {},
   "source": [
    "### Model Testing\n",
    "* I evaluated on the four different model types and various hyperparameter configurations below\n",
    "* Models were evaluated on train and validate data to prevent overfitting\n",
    "* The model that performed the best was then run on the test data"
   ]
  },
  {
   "cell_type": "markdown",
   "id": "0387b5eb",
   "metadata": {},
   "source": [
    "### Decision Tree"
   ]
  },
  {
   "cell_type": "code",
   "execution_count": 46,
   "id": "c0dd9151",
   "metadata": {},
   "outputs": [
    {
     "name": "stdout",
     "output_type": "stream",
     "text": [
      "Decision Tree\n",
      "Train Accuracy: 79.57%\n",
      "Validate Accuracy: 78.08%\n",
      "Difference: 1.49%\n"
     ]
    }
   ],
   "source": [
    "# Decision tree  \n",
    "# create classifier object\n",
    "clf = DecisionTreeClassifier(max_depth=4, random_state=27)\n",
    "\n",
    "#fit model on training data\n",
    "clf.fit(X_train, y_train)\n",
    "\n",
    "#print results\n",
    "print(\"Decision Tree\")\n",
    "print(f\"Train Accuracy: {clf.score(X_train, y_train):.2%}\")\n",
    "print(f\"Validate Accuracy: {clf.score(X_validate, y_validate):.2%}\")\n",
    "print(f\"Difference: {(clf.score(X_train, y_train)-clf.score(X_validate, y_validate)):.2%}\")"
   ]
  },
  {
   "cell_type": "markdown",
   "id": "intensive-vietnamese",
   "metadata": {},
   "source": [
    "### Random Forest"
   ]
  },
  {
   "cell_type": "code",
   "execution_count": 47,
   "id": "colonial-newport",
   "metadata": {},
   "outputs": [
    {
     "name": "stdout",
     "output_type": "stream",
     "text": [
      "Random Forest\n",
      "Train Accuracy: 79.75%\n",
      "Validate Accuracy: 78.79%\n",
      "Difference: 0.96%\n"
     ]
    }
   ],
   "source": [
    "#Random forest \n",
    "# create classifier object\n",
    "rf = RandomForestClassifier(max_depth=4, random_state=27)\n",
    "\n",
    "#fit model on training data\n",
    "rf.fit(X_train, y_train)\n",
    "\n",
    "#print results\n",
    "print('Random Forest')\n",
    "print(f\"Train Accuracy: {rf.score(X_train, y_train):.2%}\")\n",
    "print(f\"Validate Accuracy: {rf.score(X_validate, y_validate):.2%}\")\n",
    "print(f\"Difference: {(rf.score(X_train, y_train)-rf.score(X_validate, y_validate)):.2%}\")"
   ]
  },
  {
   "cell_type": "markdown",
   "id": "ebce7486",
   "metadata": {},
   "source": [
    "### KNN"
   ]
  },
  {
   "cell_type": "code",
   "execution_count": 48,
   "id": "2e829d7a",
   "metadata": {},
   "outputs": [
    {
     "name": "stdout",
     "output_type": "stream",
     "text": [
      "KNN\n",
      "Train Accuracy: 84.43%\n",
      "Validate Accuracy: 75.59%\n",
      "Difference: 8.84%\n"
     ]
    }
   ],
   "source": [
    "#KNN \n",
    "# create classifier object\n",
    "knn = KNeighborsClassifier()\n",
    "\n",
    "#fit model on training data\n",
    "knn.fit(X_train, y_train)\n",
    "\n",
    "#print results\n",
    "print('KNN')\n",
    "print(f\"Train Accuracy: {knn.score(X_train, y_train):.2%}\")\n",
    "print(f\"Validate Accuracy: {knn.score(X_validate, y_validate):.2%}\")\n",
    "print(f\"Difference: {(knn.score(X_train, y_train)-knn.score(X_validate, y_validate)):.2%}\")"
   ]
  },
  {
   "cell_type": "markdown",
   "id": "9b6e54e4",
   "metadata": {},
   "source": [
    "### Logistic Regression"
   ]
  },
  {
   "cell_type": "code",
   "execution_count": 49,
   "id": "c4d1a01c",
   "metadata": {},
   "outputs": [
    {
     "name": "stdout",
     "output_type": "stream",
     "text": [
      "Logistic Regression\n",
      "Train Accuracy: 78.63%\n",
      "Validate Accuracy: 79.36%\n",
      "Difference: -0.73%\n"
     ]
    }
   ],
   "source": [
    "#Logistic regression \n",
    "# create classifier object\n",
    "logit = LogisticRegression(random_state=27)\n",
    "\n",
    "#fit model on training data\n",
    "logit.fit(X_train, y_train)\n",
    "\n",
    "#print results\n",
    "print('Logistic Regression')\n",
    "print(f\"Train Accuracy: {logit.score(X_train, y_train):.2%}\")\n",
    "print(f\"Validate Accuracy: {logit.score(X_validate, y_validate):.2%}\")\n",
    "print(f\"Difference: {(logit.score(X_train, y_train)-logit.score(X_validate, y_validate)):.2%}\")"
   ]
  },
  {
   "cell_type": "markdown",
   "id": "bright-evans",
   "metadata": {},
   "source": [
    "### Comparing Models\n",
    "* All models perfomed better than baseline for both train and validate data.\n",
    "* KNN had a high train accuracy and lower validate accuracy so it is probably over fit."
   ]
  },
  {
   "cell_type": "markdown",
   "id": "regulated-fellowship",
   "metadata": {},
   "source": [
    "### Best model: Random Forest Model \n",
    "* I chose the random forest model because the difference in accuracy between the train and validate is less than 1%\n",
    "* I will now run the random forest model on test data to gauge how it will perform on future data"
   ]
  },
  {
   "cell_type": "code",
   "execution_count": 52,
   "id": "36af8356",
   "metadata": {},
   "outputs": [
    {
     "name": "stdout",
     "output_type": "stream",
     "text": [
      "Best Model: Random Forest\n",
      "Test Accuracy: 78.20%\n"
     ]
    }
   ],
   "source": [
    "#run the best overall model on test data\n",
    "print('Best Model: Random Forest')\n",
    "print(f\"Test Accuracy: {rf.score(X_test, y_test):.2%}\")"
   ]
  },
  {
   "cell_type": "markdown",
   "id": "fc24d1d6",
   "metadata": {},
   "source": [
    "**This model performs better than baseline and with very similar accuracy across all three data sets (train, validate and test).**"
   ]
  },
  {
   "cell_type": "code",
   "execution_count": 54,
   "id": "75d105c2",
   "metadata": {},
   "outputs": [
    {
     "name": "stdout",
     "output_type": "stream",
     "text": [
      "Random Forest\n",
      "Train Accuracy: 79.75%\n",
      "Validate Accuracy: 78.79%\n",
      "Test Accuracy: 78.20%\n"
     ]
    }
   ],
   "source": [
    "#print results\n",
    "print('Random Forest')\n",
    "print(f\"Train Accuracy: {rf.score(X_train, y_train):.2%}\")\n",
    "print(f\"Validate Accuracy: {rf.score(X_validate, y_validate):.2%}\")\n",
    "print(f\"Test Accuracy: {rf.score(X_test, y_test):.2%}\")"
   ]
  },
  {
   "cell_type": "markdown",
   "id": "tutorial-twelve",
   "metadata": {},
   "source": [
    "## Conclusion\n",
    "\n",
    "### Summary\n",
    "* About 1/4 of our customers churn\n",
    "* Tenure seems to be a driver of churn\n",
    "* Monthly_charges seem to be a driver of churn\n",
    "* Contract_type seems to be a driver of churn\n",
    "* Tech_support seems to be a driver of churn\n",
    "\n",
    "\n",
    "### Recommendations\n",
    "* To reduce churn, I would encourage the company to think about taking the following actions:\n",
    "    * Seek out young customers and give discounts (lower monthly cost) in order to keep customers longer (increase tenure)\n",
    "    * Seek out month-to-month contract customers and encourage them to sign a longer contract maybe through discounts\n",
    "    * Seek out those who don't have tech support and give a free trial of tech support.\n",
    "\n",
    "### Next Steps\n",
    "* In the next iteration:\n",
    "    * Look into how customers with internet add-ons are the same people then can see if they churn more or less.\n",
    "    * Look into cost of add-ons and see if there are bundles that might reduce monthly charges. That could help us entice more customers to stay."
   ]
  },
  {
   "cell_type": "code",
   "execution_count": null,
   "id": "830a45f0",
   "metadata": {},
   "outputs": [],
   "source": []
  }
 ],
 "metadata": {
  "kernelspec": {
   "display_name": "Python 3 (ipykernel)",
   "language": "python",
   "name": "python3"
  },
  "language_info": {
   "codemirror_mode": {
    "name": "ipython",
    "version": 3
   },
   "file_extension": ".py",
   "mimetype": "text/x-python",
   "name": "python",
   "nbconvert_exporter": "python",
   "pygments_lexer": "ipython3",
   "version": "3.9.12"
  }
 },
 "nbformat": 4,
 "nbformat_minor": 5
}
